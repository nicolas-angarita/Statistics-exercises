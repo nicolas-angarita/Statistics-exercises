{
 "cells": [
  {
   "cell_type": "markdown",
   "id": "ed4a8c1e",
   "metadata": {},
   "source": [
    "# Terminology / Notation\n",
    "\n",
    "H₀ - Null Hypothesis \"nothing interesting happening\"\n",
    "\n",
    "Hₐ - Alternative hypothesis \n",
    "\n",
    " - Results: Reject H(0) or Fail to reject H(0)\n",
    " \n",
    " \n"
   ]
  },
  {
   "cell_type": "markdown",
   "id": "2d11ad25",
   "metadata": {},
   "source": [
    "__________"
   ]
  },
  {
   "cell_type": "markdown",
   "id": "9832e1a8",
   "metadata": {},
   "source": [
    "For each of the following questions, formulate a null and alternative hypothesis (be as specific as you can be), then give an example of what a true positive, true negative, type I and type II errors would look like. Note that some of the questions are intentionally phrased in a vague way. It is your job to reword these as more precise questions that could be tested.\n",
    " "
   ]
  },
  {
   "cell_type": "markdown",
   "id": "f30bc605",
   "metadata": {},
   "source": [
    "# 1. Has the network latency gone up since we switched internet service providers?"
   ]
  },
  {
   "cell_type": "markdown",
   "id": "4bfc4d83",
   "metadata": {},
   "source": [
    "\n",
    "H₀ = The network latency has not changed or decreased since we switched internet service providers.\n",
    "\n",
    "Hₐ = The network latency has increased since we switched internet service providers.\n",
    "\n",
    "\n",
    "Type I error = I determine that the network latency has increased when it has actually stayed the same. <br>\n",
    "True negative = I determine that the network latency has stayed the same and not decreased. <br>\n",
    "True positive = I determine that the network latency has increased. <br>\n",
    "Type II error = I determine that the network latency has stayed the same when it has actually increased.\n"
   ]
  },
  {
   "cell_type": "markdown",
   "id": "fda5e8d6",
   "metadata": {},
   "source": [
    "# 2. Is the website redesign any good?"
   ]
  },
  {
   "cell_type": "markdown",
   "id": "0ebb92d0",
   "metadata": {},
   "source": [
    "\n",
    "H₀ = The website design has no difference in sales.\n",
    "\n",
    "Hₐ = There has been an increase in sales since redesigning the website.\n",
    "\n",
    "Type I error = I determine that the number of sales has increased when it has actually has stayed the same. <br>\n",
    "True negative = I determine that the number of sales has stayed. <br>\n",
    "True positive = I determine that the number of sales has increased.  <br>\n",
    "Type II error = I determine that the number of sales has stayed the same when it has actually increased. <br>\n"
   ]
  },
  {
   "cell_type": "markdown",
   "id": "298a2b58",
   "metadata": {},
   "source": [
    "# 3. Is our television ad driving more sales?"
   ]
  },
  {
   "cell_type": "markdown",
   "id": "c4f4d03c",
   "metadata": {},
   "source": [
    "\n",
    "H₀ = The TV ads has no difference in sales (stayed the same or decreased).\n",
    "\n",
    "Hₐ = There has been an increase in sales since delivering the TV ads.\n",
    "\n",
    "Type I error = I determine that the number of sales has increased when it has actually has stayed the same. <br>\n",
    "True negative = I determine that the number of sales has stayed. <br>\n",
    "True positive = I determine that the number of sales has increased.  <br>\n",
    "Type II error = I determine that the number of sales has stayed the same when it has actually increased. <br>\n",
    "\n"
   ]
  }
 ],
 "metadata": {
  "kernelspec": {
   "display_name": "Python 3 (ipykernel)",
   "language": "python",
   "name": "python3"
  },
  "language_info": {
   "codemirror_mode": {
    "name": "ipython",
    "version": 3
   },
   "file_extension": ".py",
   "mimetype": "text/x-python",
   "name": "python",
   "nbconvert_exporter": "python",
   "pygments_lexer": "ipython3",
   "version": "3.9.13"
  }
 },
 "nbformat": 4,
 "nbformat_minor": 5
}
