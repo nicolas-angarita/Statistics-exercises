{
 "cells": [
  {
   "cell_type": "code",
   "execution_count": 197,
   "id": "a9c8a942",
   "metadata": {},
   "outputs": [],
   "source": [
    "import numpy as np\n",
    "import pandas as pd"
   ]
  },
  {
   "cell_type": "markdown",
   "id": "532d6fb6",
   "metadata": {},
   "source": [
    "1. How likely is it that you roll doubles when rolling two dice?"
   ]
  },
  {
   "cell_type": "code",
   "execution_count": 141,
   "id": "2d8cad11",
   "metadata": {},
   "outputs": [
    {
     "data": {
      "text/plain": [
       "0.16775"
      ]
     },
     "execution_count": 141,
     "metadata": {},
     "output_type": "execute_result"
    }
   ],
   "source": [
    "n_trials = nrows = 100_000\n",
    "n_dice = ncols = 2\n",
    "\n",
    "rolls = pd.DataFrame(np.random.choice([1, 2, 3, 4, 5, 6], n_trials * n_dice).reshape(nrows, ncols))\n",
    "rolls\n",
    "\n",
    "rolls['doubles'] = False\n",
    "rolls\n",
    "\n",
    "for row in range(0,len(rolls)):\n",
    "    rolls.loc[row, 'doubles'] = rolls.iloc[row, 0] == rolls.iloc[row, 1]\n",
    "    \n",
    "rolls['doubles'].mean()"
   ]
  },
  {
   "cell_type": "code",
   "execution_count": 142,
   "id": "c843f6ea",
   "metadata": {},
   "outputs": [
    {
     "data": {
      "text/plain": [
       "0.16775"
      ]
     },
     "execution_count": 142,
     "metadata": {},
     "output_type": "execute_result"
    }
   ],
   "source": [
    "(rolls[0]-rolls[1] == 0).sum()/len(rolls) "
   ]
  },
  {
   "cell_type": "markdown",
   "id": "669a9ec3",
   "metadata": {},
   "source": [
    "2. If you flip 8 coins, what is the probability of getting exactly 3 heads? What is the probability of getting more than 3 heads?"
   ]
  },
  {
   "cell_type": "code",
   "execution_count": 143,
   "id": "7807b388",
   "metadata": {},
   "outputs": [
    {
     "data": {
      "text/html": [
       "<div>\n",
       "<style scoped>\n",
       "    .dataframe tbody tr th:only-of-type {\n",
       "        vertical-align: middle;\n",
       "    }\n",
       "\n",
       "    .dataframe tbody tr th {\n",
       "        vertical-align: top;\n",
       "    }\n",
       "\n",
       "    .dataframe thead th {\n",
       "        text-align: right;\n",
       "    }\n",
       "</style>\n",
       "<table border=\"1\" class=\"dataframe\">\n",
       "  <thead>\n",
       "    <tr style=\"text-align: right;\">\n",
       "      <th></th>\n",
       "      <th>0</th>\n",
       "      <th>1</th>\n",
       "      <th>2</th>\n",
       "      <th>3</th>\n",
       "      <th>4</th>\n",
       "      <th>5</th>\n",
       "      <th>6</th>\n",
       "      <th>7</th>\n",
       "    </tr>\n",
       "  </thead>\n",
       "  <tbody>\n",
       "    <tr>\n",
       "      <th>0</th>\n",
       "      <td>1</td>\n",
       "      <td>0</td>\n",
       "      <td>0</td>\n",
       "      <td>1</td>\n",
       "      <td>0</td>\n",
       "      <td>0</td>\n",
       "      <td>0</td>\n",
       "      <td>1</td>\n",
       "    </tr>\n",
       "    <tr>\n",
       "      <th>1</th>\n",
       "      <td>0</td>\n",
       "      <td>1</td>\n",
       "      <td>1</td>\n",
       "      <td>1</td>\n",
       "      <td>0</td>\n",
       "      <td>1</td>\n",
       "      <td>1</td>\n",
       "      <td>1</td>\n",
       "    </tr>\n",
       "    <tr>\n",
       "      <th>2</th>\n",
       "      <td>0</td>\n",
       "      <td>0</td>\n",
       "      <td>0</td>\n",
       "      <td>0</td>\n",
       "      <td>0</td>\n",
       "      <td>0</td>\n",
       "      <td>0</td>\n",
       "      <td>0</td>\n",
       "    </tr>\n",
       "    <tr>\n",
       "      <th>3</th>\n",
       "      <td>1</td>\n",
       "      <td>1</td>\n",
       "      <td>1</td>\n",
       "      <td>1</td>\n",
       "      <td>0</td>\n",
       "      <td>1</td>\n",
       "      <td>1</td>\n",
       "      <td>1</td>\n",
       "    </tr>\n",
       "    <tr>\n",
       "      <th>4</th>\n",
       "      <td>0</td>\n",
       "      <td>1</td>\n",
       "      <td>1</td>\n",
       "      <td>0</td>\n",
       "      <td>0</td>\n",
       "      <td>0</td>\n",
       "      <td>0</td>\n",
       "      <td>1</td>\n",
       "    </tr>\n",
       "  </tbody>\n",
       "</table>\n",
       "</div>"
      ],
      "text/plain": [
       "   0  1  2  3  4  5  6  7\n",
       "0  1  0  0  1  0  0  0  1\n",
       "1  0  1  1  1  0  1  1  1\n",
       "2  0  0  0  0  0  0  0  0\n",
       "3  1  1  1  1  0  1  1  1\n",
       "4  0  1  1  0  0  0  0  1"
      ]
     },
     "execution_count": 143,
     "metadata": {},
     "output_type": "execute_result"
    }
   ],
   "source": [
    "n_trials = nrows = 10_000\n",
    "n_coins = ncols = 8\n",
    "\n",
    "flips = pd.DataFrame(np.random.choice([0,1], n_trials * n_coins).reshape(nrows,ncols))\n",
    "\n",
    "flips.head()"
   ]
  },
  {
   "cell_type": "code",
   "execution_count": 144,
   "id": "7776408c",
   "metadata": {},
   "outputs": [
    {
     "data": {
      "text/plain": [
       "0.2185"
      ]
     },
     "execution_count": 144,
     "metadata": {},
     "output_type": "execute_result"
    }
   ],
   "source": [
    "# (flips.sum(axis =1) == 3).mean()\n",
    "\n",
    "sums_by_trial = flips.sum(axis=1)\n",
    "\n",
    "heads_by_three = sums_by_trial == 3\n",
    "\n",
    "heads_by_three.mean()"
   ]
  },
  {
   "cell_type": "code",
   "execution_count": 145,
   "id": "99a0c1bd",
   "metadata": {},
   "outputs": [
    {
     "data": {
      "text/plain": [
       "0.636"
      ]
     },
     "execution_count": 145,
     "metadata": {},
     "output_type": "execute_result"
    }
   ],
   "source": [
    "#(flips.sum(axis =1) > 3).mean()\n",
    "greater_heads = sums_by_trial > 3\n",
    "\n",
    "greater_heads.mean()"
   ]
  },
  {
   "cell_type": "markdown",
   "id": "be32f669",
   "metadata": {},
   "source": [
    "3. There are approximitely 3 web development cohorts for every 1 data science cohort at Codeup. Assuming that Codeup randomly selects an alumni to put on a billboard, what are the odds that the two billboards I drive past both have data science students on them?"
   ]
  },
  {
   "cell_type": "code",
   "execution_count": 148,
   "id": "b0284925",
   "metadata": {},
   "outputs": [],
   "source": [
    "n_trials = nrows = 10000\n",
    "n_billboard = ncols = 2\n",
    "p_ds = .25\n"
   ]
  },
  {
   "cell_type": "code",
   "execution_count": 149,
   "id": "27eaf9a3",
   "metadata": {},
   "outputs": [
    {
     "data": {
      "text/html": [
       "<div>\n",
       "<style scoped>\n",
       "    .dataframe tbody tr th:only-of-type {\n",
       "        vertical-align: middle;\n",
       "    }\n",
       "\n",
       "    .dataframe tbody tr th {\n",
       "        vertical-align: top;\n",
       "    }\n",
       "\n",
       "    .dataframe thead th {\n",
       "        text-align: right;\n",
       "    }\n",
       "</style>\n",
       "<table border=\"1\" class=\"dataframe\">\n",
       "  <thead>\n",
       "    <tr style=\"text-align: right;\">\n",
       "      <th></th>\n",
       "      <th>0</th>\n",
       "      <th>1</th>\n",
       "    </tr>\n",
       "  </thead>\n",
       "  <tbody>\n",
       "    <tr>\n",
       "      <th>0</th>\n",
       "      <td>0.717854</td>\n",
       "      <td>0.343564</td>\n",
       "    </tr>\n",
       "    <tr>\n",
       "      <th>1</th>\n",
       "      <td>0.186244</td>\n",
       "      <td>0.282213</td>\n",
       "    </tr>\n",
       "    <tr>\n",
       "      <th>2</th>\n",
       "      <td>0.800451</td>\n",
       "      <td>0.917330</td>\n",
       "    </tr>\n",
       "    <tr>\n",
       "      <th>3</th>\n",
       "      <td>0.017182</td>\n",
       "      <td>0.195426</td>\n",
       "    </tr>\n",
       "    <tr>\n",
       "      <th>4</th>\n",
       "      <td>0.838467</td>\n",
       "      <td>0.207034</td>\n",
       "    </tr>\n",
       "  </tbody>\n",
       "</table>\n",
       "</div>"
      ],
      "text/plain": [
       "          0         1\n",
       "0  0.717854  0.343564\n",
       "1  0.186244  0.282213\n",
       "2  0.800451  0.917330\n",
       "3  0.017182  0.195426\n",
       "4  0.838467  0.207034"
      ]
     },
     "execution_count": 149,
     "metadata": {},
     "output_type": "execute_result"
    }
   ],
   "source": [
    "data = pd.DataFrame(np.random.random((nrows, ncols)))\n",
    "data.head()"
   ]
  },
  {
   "cell_type": "code",
   "execution_count": 150,
   "id": "ca5aa75a",
   "metadata": {},
   "outputs": [
    {
     "data": {
      "text/plain": [
       "0.0622"
      ]
     },
     "execution_count": 150,
     "metadata": {},
     "output_type": "execute_result"
    }
   ],
   "source": [
    "((data[0]<= p_ds) & (data[1] <= p_ds)).sum()/len(data) "
   ]
  },
  {
   "cell_type": "code",
   "execution_count": 151,
   "id": "84caaf18",
   "metadata": {},
   "outputs": [
    {
     "data": {
      "text/html": [
       "<div>\n",
       "<style scoped>\n",
       "    .dataframe tbody tr th:only-of-type {\n",
       "        vertical-align: middle;\n",
       "    }\n",
       "\n",
       "    .dataframe tbody tr th {\n",
       "        vertical-align: top;\n",
       "    }\n",
       "\n",
       "    .dataframe thead th {\n",
       "        text-align: right;\n",
       "    }\n",
       "</style>\n",
       "<table border=\"1\" class=\"dataframe\">\n",
       "  <thead>\n",
       "    <tr style=\"text-align: right;\">\n",
       "      <th></th>\n",
       "      <th>0</th>\n",
       "      <th>1</th>\n",
       "    </tr>\n",
       "  </thead>\n",
       "  <tbody>\n",
       "    <tr>\n",
       "      <th>0</th>\n",
       "      <td>False</td>\n",
       "      <td>False</td>\n",
       "    </tr>\n",
       "    <tr>\n",
       "      <th>1</th>\n",
       "      <td>True</td>\n",
       "      <td>False</td>\n",
       "    </tr>\n",
       "    <tr>\n",
       "      <th>2</th>\n",
       "      <td>False</td>\n",
       "      <td>False</td>\n",
       "    </tr>\n",
       "    <tr>\n",
       "      <th>3</th>\n",
       "      <td>True</td>\n",
       "      <td>True</td>\n",
       "    </tr>\n",
       "    <tr>\n",
       "      <th>4</th>\n",
       "      <td>False</td>\n",
       "      <td>True</td>\n",
       "    </tr>\n",
       "    <tr>\n",
       "      <th>...</th>\n",
       "      <td>...</td>\n",
       "      <td>...</td>\n",
       "    </tr>\n",
       "    <tr>\n",
       "      <th>9995</th>\n",
       "      <td>False</td>\n",
       "      <td>False</td>\n",
       "    </tr>\n",
       "    <tr>\n",
       "      <th>9996</th>\n",
       "      <td>True</td>\n",
       "      <td>False</td>\n",
       "    </tr>\n",
       "    <tr>\n",
       "      <th>9997</th>\n",
       "      <td>False</td>\n",
       "      <td>False</td>\n",
       "    </tr>\n",
       "    <tr>\n",
       "      <th>9998</th>\n",
       "      <td>True</td>\n",
       "      <td>False</td>\n",
       "    </tr>\n",
       "    <tr>\n",
       "      <th>9999</th>\n",
       "      <td>False</td>\n",
       "      <td>False</td>\n",
       "    </tr>\n",
       "  </tbody>\n",
       "</table>\n",
       "<p>10000 rows × 2 columns</p>\n",
       "</div>"
      ],
      "text/plain": [
       "          0      1\n",
       "0     False  False\n",
       "1      True  False\n",
       "2     False  False\n",
       "3      True   True\n",
       "4     False   True\n",
       "...     ...    ...\n",
       "9995  False  False\n",
       "9996   True  False\n",
       "9997  False  False\n",
       "9998   True  False\n",
       "9999  False  False\n",
       "\n",
       "[10000 rows x 2 columns]"
      ]
     },
     "execution_count": 151,
     "metadata": {},
     "output_type": "execute_result"
    }
   ],
   "source": [
    "ds_students = data < p_ds\n",
    "ds_students"
   ]
  },
  {
   "cell_type": "markdown",
   "id": "8a29c024",
   "metadata": {},
   "source": [
    "4. Codeup students buy, on average, 3 poptart packages with a standard deviation of 1.5 a day from the snack vending machine. If on monday the machine is restocked with 17 poptart packages, how likely is it that I will be able to buy some poptarts on Friday afternoon? (Remember, if you have mean and standard deviation, use the np.random.normal) You'll need to make a judgement call on how to handle some of your values"
   ]
  },
  {
   "cell_type": "code",
   "execution_count": 159,
   "id": "c4b89990",
   "metadata": {},
   "outputs": [
    {
     "data": {
      "text/html": [
       "<div>\n",
       "<style scoped>\n",
       "    .dataframe tbody tr th:only-of-type {\n",
       "        vertical-align: middle;\n",
       "    }\n",
       "\n",
       "    .dataframe tbody tr th {\n",
       "        vertical-align: top;\n",
       "    }\n",
       "\n",
       "    .dataframe thead th {\n",
       "        text-align: right;\n",
       "    }\n",
       "</style>\n",
       "<table border=\"1\" class=\"dataframe\">\n",
       "  <thead>\n",
       "    <tr style=\"text-align: right;\">\n",
       "      <th></th>\n",
       "      <th>0</th>\n",
       "      <th>1</th>\n",
       "      <th>2</th>\n",
       "      <th>3</th>\n",
       "      <th>4</th>\n",
       "    </tr>\n",
       "  </thead>\n",
       "  <tbody>\n",
       "    <tr>\n",
       "      <th>0</th>\n",
       "      <td>1.502369</td>\n",
       "      <td>3.736398</td>\n",
       "      <td>3.615347</td>\n",
       "      <td>5.098655</td>\n",
       "      <td>1.715776</td>\n",
       "    </tr>\n",
       "    <tr>\n",
       "      <th>1</th>\n",
       "      <td>2.511047</td>\n",
       "      <td>1.892626</td>\n",
       "      <td>0.782993</td>\n",
       "      <td>2.280271</td>\n",
       "      <td>3.833275</td>\n",
       "    </tr>\n",
       "    <tr>\n",
       "      <th>2</th>\n",
       "      <td>-1.179794</td>\n",
       "      <td>1.661554</td>\n",
       "      <td>0.436062</td>\n",
       "      <td>3.274646</td>\n",
       "      <td>3.037628</td>\n",
       "    </tr>\n",
       "    <tr>\n",
       "      <th>3</th>\n",
       "      <td>1.542476</td>\n",
       "      <td>4.689481</td>\n",
       "      <td>3.504141</td>\n",
       "      <td>1.987264</td>\n",
       "      <td>4.540227</td>\n",
       "    </tr>\n",
       "    <tr>\n",
       "      <th>4</th>\n",
       "      <td>4.246040</td>\n",
       "      <td>6.943135</td>\n",
       "      <td>4.082074</td>\n",
       "      <td>3.294567</td>\n",
       "      <td>1.430614</td>\n",
       "    </tr>\n",
       "  </tbody>\n",
       "</table>\n",
       "</div>"
      ],
      "text/plain": [
       "          0         1         2         3         4\n",
       "0  1.502369  3.736398  3.615347  5.098655  1.715776\n",
       "1  2.511047  1.892626  0.782993  2.280271  3.833275\n",
       "2 -1.179794  1.661554  0.436062  3.274646  3.037628\n",
       "3  1.542476  4.689481  3.504141  1.987264  4.540227\n",
       "4  4.246040  6.943135  4.082074  3.294567  1.430614"
      ]
     },
     "execution_count": 159,
     "metadata": {},
     "output_type": "execute_result"
    }
   ],
   "source": [
    "n_trials = rows = 10_000\n",
    "n_days = cols = 5\n",
    "\n",
    "poptarts = pd.DataFrame(np.random.normal(3, 1.5, rows * cols).reshape(rows,cols))\n",
    "\n",
    "#random.normal(loc=1, scale=2, size=(2, 3))\n",
    "\n",
    "poptarts.head()"
   ]
  },
  {
   "cell_type": "code",
   "execution_count": 161,
   "id": "d9109071",
   "metadata": {},
   "outputs": [
    {
     "data": {
      "text/plain": [
       "0.6198"
      ]
     },
     "execution_count": 161,
     "metadata": {},
     "output_type": "execute_result"
    }
   ],
   "source": [
    "poptarts.apply(lambda row: row.values.sum() < 16, axis = 1).mean()"
   ]
  },
  {
   "cell_type": "markdown",
   "id": "72d520da",
   "metadata": {},
   "source": [
    "5. Compare Heights\n",
    "\n",
    " - Men have an average height of 178 cm and standard deviation of 8cm.\n",
    " - Women have a mean of 170, sd = 6cm.\n",
    " - Since you have means and standard deviations, you can use np.random.normal to generate observations.\n",
    " - If a man and woman are chosen at random, what is the likelihood the woman is taller than the man?"
   ]
  },
  {
   "cell_type": "code",
   "execution_count": 51,
   "id": "d61c1a3e",
   "metadata": {},
   "outputs": [
    {
     "data": {
      "text/html": [
       "<div>\n",
       "<style scoped>\n",
       "    .dataframe tbody tr th:only-of-type {\n",
       "        vertical-align: middle;\n",
       "    }\n",
       "\n",
       "    .dataframe tbody tr th {\n",
       "        vertical-align: top;\n",
       "    }\n",
       "\n",
       "    .dataframe thead th {\n",
       "        text-align: right;\n",
       "    }\n",
       "</style>\n",
       "<table border=\"1\" class=\"dataframe\">\n",
       "  <thead>\n",
       "    <tr style=\"text-align: right;\">\n",
       "      <th></th>\n",
       "      <th>0</th>\n",
       "      <th>1</th>\n",
       "      <th>2</th>\n",
       "      <th>3</th>\n",
       "      <th>4</th>\n",
       "      <th>5</th>\n",
       "      <th>6</th>\n",
       "      <th>7</th>\n",
       "      <th>8</th>\n",
       "      <th>9</th>\n",
       "      <th>...</th>\n",
       "      <th>90</th>\n",
       "      <th>91</th>\n",
       "      <th>92</th>\n",
       "      <th>93</th>\n",
       "      <th>94</th>\n",
       "      <th>95</th>\n",
       "      <th>96</th>\n",
       "      <th>97</th>\n",
       "      <th>98</th>\n",
       "      <th>99</th>\n",
       "    </tr>\n",
       "  </thead>\n",
       "  <tbody>\n",
       "    <tr>\n",
       "      <th>0</th>\n",
       "      <td>178.262461</td>\n",
       "      <td>179.977582</td>\n",
       "      <td>171.247946</td>\n",
       "      <td>163.587428</td>\n",
       "      <td>168.512546</td>\n",
       "      <td>186.555206</td>\n",
       "      <td>182.951584</td>\n",
       "      <td>180.258561</td>\n",
       "      <td>167.729191</td>\n",
       "      <td>166.207721</td>\n",
       "      <td>...</td>\n",
       "      <td>191.311429</td>\n",
       "      <td>185.775899</td>\n",
       "      <td>183.586688</td>\n",
       "      <td>180.944105</td>\n",
       "      <td>187.746127</td>\n",
       "      <td>176.473528</td>\n",
       "      <td>178.051646</td>\n",
       "      <td>154.570852</td>\n",
       "      <td>189.928193</td>\n",
       "      <td>179.249744</td>\n",
       "    </tr>\n",
       "  </tbody>\n",
       "</table>\n",
       "<p>1 rows × 100 columns</p>\n",
       "</div>"
      ],
      "text/plain": [
       "           0           1           2           3           4           5   \\\n",
       "0  178.262461  179.977582  171.247946  163.587428  168.512546  186.555206   \n",
       "\n",
       "           6           7           8           9   ...          90  \\\n",
       "0  182.951584  180.258561  167.729191  166.207721  ...  191.311429   \n",
       "\n",
       "           91          92          93          94          95          96  \\\n",
       "0  185.775899  183.586688  180.944105  187.746127  176.473528  178.051646   \n",
       "\n",
       "           97          98          99  \n",
       "0  154.570852  189.928193  179.249744  \n",
       "\n",
       "[1 rows x 100 columns]"
      ]
     },
     "execution_count": 51,
     "metadata": {},
     "output_type": "execute_result"
    }
   ],
   "source": [
    "\n",
    "m_height = pd.DataFrame(np.random.normal(loc=178, scale=8, size=(1,100)))\n",
    "\n",
    "m_height\n"
   ]
  },
  {
   "cell_type": "code",
   "execution_count": 52,
   "id": "c213dcc8",
   "metadata": {},
   "outputs": [
    {
     "data": {
      "text/html": [
       "<div>\n",
       "<style scoped>\n",
       "    .dataframe tbody tr th:only-of-type {\n",
       "        vertical-align: middle;\n",
       "    }\n",
       "\n",
       "    .dataframe tbody tr th {\n",
       "        vertical-align: top;\n",
       "    }\n",
       "\n",
       "    .dataframe thead th {\n",
       "        text-align: right;\n",
       "    }\n",
       "</style>\n",
       "<table border=\"1\" class=\"dataframe\">\n",
       "  <thead>\n",
       "    <tr style=\"text-align: right;\">\n",
       "      <th></th>\n",
       "      <th>0</th>\n",
       "      <th>1</th>\n",
       "      <th>2</th>\n",
       "      <th>3</th>\n",
       "      <th>4</th>\n",
       "      <th>5</th>\n",
       "      <th>6</th>\n",
       "      <th>7</th>\n",
       "      <th>8</th>\n",
       "      <th>9</th>\n",
       "      <th>...</th>\n",
       "      <th>90</th>\n",
       "      <th>91</th>\n",
       "      <th>92</th>\n",
       "      <th>93</th>\n",
       "      <th>94</th>\n",
       "      <th>95</th>\n",
       "      <th>96</th>\n",
       "      <th>97</th>\n",
       "      <th>98</th>\n",
       "      <th>99</th>\n",
       "    </tr>\n",
       "  </thead>\n",
       "  <tbody>\n",
       "    <tr>\n",
       "      <th>0</th>\n",
       "      <td>173.827488</td>\n",
       "      <td>174.258491</td>\n",
       "      <td>169.456645</td>\n",
       "      <td>163.319913</td>\n",
       "      <td>163.351446</td>\n",
       "      <td>179.483673</td>\n",
       "      <td>170.971448</td>\n",
       "      <td>178.313745</td>\n",
       "      <td>159.289359</td>\n",
       "      <td>179.892743</td>\n",
       "      <td>...</td>\n",
       "      <td>167.717813</td>\n",
       "      <td>166.859663</td>\n",
       "      <td>171.788226</td>\n",
       "      <td>167.390299</td>\n",
       "      <td>172.738032</td>\n",
       "      <td>171.672442</td>\n",
       "      <td>174.229453</td>\n",
       "      <td>170.150891</td>\n",
       "      <td>165.810409</td>\n",
       "      <td>161.171604</td>\n",
       "    </tr>\n",
       "  </tbody>\n",
       "</table>\n",
       "<p>1 rows × 100 columns</p>\n",
       "</div>"
      ],
      "text/plain": [
       "           0           1           2           3           4           5   \\\n",
       "0  173.827488  174.258491  169.456645  163.319913  163.351446  179.483673   \n",
       "\n",
       "           6           7           8           9   ...          90  \\\n",
       "0  170.971448  178.313745  159.289359  179.892743  ...  167.717813   \n",
       "\n",
       "           91          92          93          94          95          96  \\\n",
       "0  166.859663  171.788226  167.390299  172.738032  171.672442  174.229453   \n",
       "\n",
       "           97          98          99  \n",
       "0  170.150891  165.810409  161.171604  \n",
       "\n",
       "[1 rows x 100 columns]"
      ]
     },
     "execution_count": 52,
     "metadata": {},
     "output_type": "execute_result"
    }
   ],
   "source": [
    "w_height = pd.DataFrame(np.random.normal(loc=170, scale=6, size=(1,100)))\n",
    "\n",
    "w_height"
   ]
  },
  {
   "cell_type": "code",
   "execution_count": 164,
   "id": "d0370e0f",
   "metadata": {},
   "outputs": [
    {
     "data": {
      "text/html": [
       "<div>\n",
       "<style scoped>\n",
       "    .dataframe tbody tr th:only-of-type {\n",
       "        vertical-align: middle;\n",
       "    }\n",
       "\n",
       "    .dataframe tbody tr th {\n",
       "        vertical-align: top;\n",
       "    }\n",
       "\n",
       "    .dataframe thead th {\n",
       "        text-align: right;\n",
       "    }\n",
       "</style>\n",
       "<table border=\"1\" class=\"dataframe\">\n",
       "  <thead>\n",
       "    <tr style=\"text-align: right;\">\n",
       "      <th></th>\n",
       "      <th>0</th>\n",
       "    </tr>\n",
       "  </thead>\n",
       "  <tbody>\n",
       "    <tr>\n",
       "      <th>0</th>\n",
       "      <td>False</td>\n",
       "    </tr>\n",
       "    <tr>\n",
       "      <th>1</th>\n",
       "      <td>False</td>\n",
       "    </tr>\n",
       "    <tr>\n",
       "      <th>2</th>\n",
       "      <td>False</td>\n",
       "    </tr>\n",
       "    <tr>\n",
       "      <th>3</th>\n",
       "      <td>False</td>\n",
       "    </tr>\n",
       "    <tr>\n",
       "      <th>4</th>\n",
       "      <td>False</td>\n",
       "    </tr>\n",
       "  </tbody>\n",
       "</table>\n",
       "</div>"
      ],
      "text/plain": [
       "       0\n",
       "0  False\n",
       "1  False\n",
       "2  False\n",
       "3  False\n",
       "4  False"
      ]
     },
     "execution_count": 164,
     "metadata": {},
     "output_type": "execute_result"
    }
   ],
   "source": [
    "p_w_taller = (w_height > m_height).T\n",
    "\n",
    "p_w_taller.head()"
   ]
  },
  {
   "cell_type": "code",
   "execution_count": 54,
   "id": "abcf70a6",
   "metadata": {},
   "outputs": [
    {
     "data": {
      "text/plain": [
       "0.21"
      ]
     },
     "execution_count": 54,
     "metadata": {},
     "output_type": "execute_result"
    }
   ],
   "source": [
    "p_w_taller[0].mean()"
   ]
  },
  {
   "cell_type": "markdown",
   "id": "093945e2",
   "metadata": {},
   "source": [
    "6. When installing anaconda on a student's computer, there's a 1 in 250 chance that the download is corrupted and the installation fails. What are the odds that after having 50 students download anaconda, no one has an installation issue? 100 students?\n",
    " \n",
    " - What is the probability that we observe an installation issue within the first 150 students that download anaconda?\n",
    "\n",
    " - How likely is it that 450 students all download anaconda without an issue?"
   ]
  },
  {
   "cell_type": "code",
   "execution_count": 192,
   "id": "c9e4148c",
   "metadata": {},
   "outputs": [
    {
     "data": {
      "text/plain": [
       "array([[0.2888275 , 0.16727208, 0.88313559, ..., 0.94678943, 0.76111884,\n",
       "        0.40197191],\n",
       "       [0.99516742, 0.72685651, 0.19327089, ..., 0.17015531, 0.38783172,\n",
       "        0.79574254],\n",
       "       [0.13373003, 0.97004232, 0.14515673, ..., 0.38993272, 0.86054413,\n",
       "        0.27123589],\n",
       "       ...,\n",
       "       [0.85859568, 0.7421593 , 0.46037167, ..., 0.84403944, 0.52346319,\n",
       "        0.68946027],\n",
       "       [0.90062537, 0.21011981, 0.98295733, ..., 0.00284272, 0.39913564,\n",
       "        0.96910455],\n",
       "       [0.54520604, 0.12661815, 0.18415515, ..., 0.60098703, 0.09455356,\n",
       "        0.86243396]])"
      ]
     },
     "execution_count": 192,
     "metadata": {},
     "output_type": "execute_result"
    }
   ],
   "source": [
    "n_trial = rows = 100_000\n",
    "n_students = cols = 50\n",
    "p_fail = .004\n",
    "\n",
    "\n",
    "data = np.random.random((rows, cols))\n",
    "data"
   ]
  },
  {
   "cell_type": "code",
   "execution_count": 193,
   "id": "219224f4",
   "metadata": {},
   "outputs": [
    {
     "data": {
      "text/plain": [
       "array([0, 0, 0, ..., 0, 1, 0])"
      ]
     },
     "execution_count": 193,
     "metadata": {},
     "output_type": "execute_result"
    }
   ],
   "source": [
    "students_fail_to_install = data < p_fail\n",
    "\n",
    "students_fail_to_install\n",
    "\n",
    "students_fail_to_install.sum(axis=1)"
   ]
  },
  {
   "cell_type": "code",
   "execution_count": 194,
   "id": "8c6ae15b",
   "metadata": {},
   "outputs": [
    {
     "data": {
      "text/plain": [
       "0.20061"
      ]
     },
     "execution_count": 194,
     "metadata": {},
     "output_type": "execute_result"
    }
   ],
   "source": [
    "(students_fail_to_install.sum(axis=1)).mean()\n",
    "# for 50 students an 20.03% success\n",
    "# for 100 students an 39.92%\n"
   ]
  },
  {
   "cell_type": "markdown",
   "id": "a1605136",
   "metadata": {},
   "source": [
    "7. There's a 70% chance on any given day that there will be at least one food truck at Travis Park. However, you haven't seen a food truck there in 3 days. How unlikely is this?\n",
    "\n",
    " - How likely is it that a food truck will show up sometime this week?"
   ]
  },
  {
   "cell_type": "code",
   "execution_count": 78,
   "id": "c5ba13ea",
   "metadata": {},
   "outputs": [
    {
     "data": {
      "text/plain": [
       "array([[0.24089369, 0.82097064, 0.97762057, ..., 0.41690155, 0.25264476,\n",
       "        0.54139954],\n",
       "       [0.75104192, 0.64152705, 0.64827587, ..., 0.95066714, 0.51231305,\n",
       "        0.13254035],\n",
       "       [0.22963979, 0.55961836, 0.86010426, ..., 0.77213594, 0.69763327,\n",
       "        0.19320825],\n",
       "       ...,\n",
       "       [0.57383095, 0.69910219, 0.73695422, ..., 0.33995704, 0.65796278,\n",
       "        0.18316587],\n",
       "       [0.82995279, 0.09049018, 0.47844837, ..., 0.84387024, 0.87988632,\n",
       "        0.50837675],\n",
       "       [0.68807917, 0.39199701, 0.23719645, ..., 0.19643493, 0.39262731,\n",
       "        0.2653618 ]])"
      ]
     },
     "execution_count": 78,
     "metadata": {},
     "output_type": "execute_result"
    }
   ],
   "source": [
    "p_food_truck = .70\n",
    "ndays = ncols = 7\n",
    "\n",
    "#1000 trials\n",
    "n_simulated_weekends = nrows = 1_000\n",
    "\n",
    "data = np.random.random((nrows, ncols))\n",
    "data"
   ]
  },
  {
   "cell_type": "code",
   "execution_count": 86,
   "id": "65e889b2",
   "metadata": {},
   "outputs": [
    {
     "data": {
      "text/plain": [
       "array([[False,  True,  True, ..., False, False, False],\n",
       "       [ True, False, False, ...,  True, False, False],\n",
       "       [False, False,  True, ...,  True, False, False],\n",
       "       ...,\n",
       "       [False, False,  True, ..., False, False, False],\n",
       "       [ True, False, False, ...,  True,  True, False],\n",
       "       [False, False, False, ..., False, False, False]])"
      ]
     },
     "execution_count": 86,
     "metadata": {},
     "output_type": "execute_result"
    }
   ],
   "source": [
    "food_truck_park = data > p_food_truck\n",
    "\n",
    "food_truck_park"
   ]
  },
  {
   "cell_type": "code",
   "execution_count": 87,
   "id": "af3a7c91",
   "metadata": {},
   "outputs": [
    {
     "data": {
      "text/plain": [
       "array([3, 2, 2, 2, 3, 3, 1, 3, 0, 0, 4, 4, 1, 3, 4, 1, 2, 2, 2, 1, 3, 1,\n",
       "       2, 2, 1, 4, 3, 1, 3, 3, 3, 1, 4, 2, 3, 2, 1, 2, 3, 2, 2, 1, 2, 2,\n",
       "       3, 1, 4, 3, 4, 0, 1, 0, 1, 4, 3, 1, 2, 2, 1, 2, 1, 2, 5, 1, 3, 2,\n",
       "       3, 2, 2, 2, 4, 3, 3, 1, 0, 2, 3, 2, 4, 1, 1, 4, 2, 3, 4, 4, 3, 1,\n",
       "       2, 2, 2, 3, 1, 3, 1, 1, 1, 1, 2, 2, 3, 0, 5, 1, 4, 3, 3, 2, 4, 1,\n",
       "       1, 3, 1, 2, 2, 3, 2, 3, 2, 1, 2, 2, 2, 1, 3, 1, 1, 3, 3, 1, 2, 2,\n",
       "       1, 3, 4, 4, 1, 0, 1, 3, 0, 1, 2, 4, 1, 2, 2, 4, 3, 2, 1, 1, 2, 2,\n",
       "       3, 3, 0, 4, 3, 2, 3, 3, 1, 3, 2, 2, 2, 2, 1, 1, 2, 0, 5, 2, 2, 0,\n",
       "       2, 4, 4, 3, 3, 2, 3, 2, 3, 3, 1, 3, 2, 1, 2, 3, 2, 3, 1, 1, 2, 3,\n",
       "       2, 2, 2, 1, 4, 1, 4, 3, 1, 4, 2, 3, 2, 4, 4, 2, 3, 3, 2, 2, 1, 2,\n",
       "       2, 5, 3, 2, 3, 3, 2, 3, 2, 1, 4, 2, 4, 1, 3, 1, 0, 4, 3, 2, 4, 2,\n",
       "       2, 1, 3, 3, 3, 2, 4, 1, 2, 1, 3, 4, 2, 1, 2, 3, 1, 1, 2, 5, 3, 2,\n",
       "       2, 2, 3, 1, 2, 0, 1, 2, 2, 1, 1, 4, 3, 4, 2, 0, 1, 3, 2, 0, 2, 3,\n",
       "       0, 4, 3, 3, 5, 2, 3, 0, 2, 2, 1, 0, 3, 2, 2, 1, 0, 2, 2, 2, 1, 2,\n",
       "       1, 2, 1, 1, 2, 1, 2, 5, 2, 2, 1, 4, 0, 2, 2, 4, 0, 0, 2, 3, 1, 2,\n",
       "       2, 2, 2, 3, 0, 3, 4, 3, 3, 2, 3, 3, 2, 1, 3, 4, 1, 4, 2, 2, 2, 1,\n",
       "       4, 5, 2, 2, 2, 3, 2, 3, 1, 2, 2, 1, 1, 1, 1, 1, 2, 2, 3, 3, 2, 1,\n",
       "       1, 3, 2, 3, 2, 1, 2, 3, 4, 2, 3, 2, 3, 3, 4, 2, 1, 0, 2, 2, 2, 3,\n",
       "       3, 1, 1, 2, 3, 1, 0, 2, 0, 2, 2, 2, 4, 1, 1, 3, 3, 2, 2, 0, 3, 2,\n",
       "       2, 2, 4, 1, 4, 1, 3, 3, 3, 5, 3, 1, 3, 3, 2, 1, 4, 2, 4, 3, 3, 4,\n",
       "       4, 3, 2, 0, 3, 3, 3, 1, 1, 3, 3, 2, 1, 3, 1, 3, 1, 1, 4, 3, 1, 4,\n",
       "       0, 1, 2, 2, 1, 3, 1, 2, 1, 2, 0, 2, 0, 1, 3, 4, 3, 3, 3, 0, 1, 3,\n",
       "       1, 0, 4, 1, 0, 1, 4, 0, 5, 2, 3, 5, 1, 2, 1, 0, 2, 1, 4, 4, 3, 2,\n",
       "       2, 2, 0, 2, 1, 2, 3, 3, 0, 2, 2, 5, 1, 3, 1, 2, 2, 3, 1, 0, 1, 2,\n",
       "       2, 1, 0, 3, 3, 3, 3, 1, 5, 0, 3, 0, 4, 2, 3, 0, 3, 1, 1, 2, 0, 2,\n",
       "       1, 2, 1, 2, 3, 2, 2, 2, 5, 1, 3, 1, 0, 3, 2, 1, 1, 3, 1, 0, 3, 1,\n",
       "       2, 2, 1, 5, 3, 1, 0, 3, 2, 1, 3, 3, 1, 1, 1, 3, 3, 2, 1, 1, 2, 2,\n",
       "       4, 4, 5, 2, 4, 1, 5, 2, 1, 1, 2, 2, 1, 3, 0, 0, 4, 0, 3, 2, 3, 0,\n",
       "       0, 3, 3, 2, 2, 4, 0, 1, 1, 4, 1, 2, 1, 5, 1, 2, 2, 3, 2, 2, 2, 4,\n",
       "       0, 2, 3, 1, 0, 3, 3, 2, 2, 4, 4, 1, 3, 2, 2, 4, 3, 0, 1, 1, 1, 1,\n",
       "       2, 4, 1, 1, 3, 2, 1, 2, 1, 2, 2, 1, 2, 3, 1, 3, 3, 1, 3, 2, 1, 2,\n",
       "       3, 2, 2, 1, 2, 2, 1, 1, 2, 3, 2, 3, 2, 0, 3, 3, 0, 2, 2, 3, 2, 2,\n",
       "       2, 3, 4, 1, 1, 3, 3, 0, 5, 2, 0, 3, 2, 2, 2, 1, 1, 3, 2, 1, 1, 2,\n",
       "       1, 4, 4, 1, 1, 2, 2, 3, 3, 2, 2, 3, 1, 3, 2, 2, 1, 4, 3, 1, 3, 4,\n",
       "       3, 2, 4, 0, 1, 3, 3, 1, 1, 2, 0, 0, 2, 2, 2, 3, 2, 4, 3, 0, 2, 0,\n",
       "       5, 2, 0, 3, 1, 4, 0, 4, 2, 3, 1, 4, 4, 3, 2, 2, 0, 1, 4, 0, 1, 1,\n",
       "       1, 5, 4, 1, 0, 1, 4, 3, 3, 1, 1, 4, 4, 4, 1, 3, 4, 1, 2, 2, 1, 1,\n",
       "       3, 3, 0, 3, 0, 2, 2, 2, 2, 2, 2, 1, 3, 2, 1, 3, 2, 3, 2, 1, 1, 3,\n",
       "       3, 2, 3, 2, 3, 4, 3, 4, 3, 2, 2, 2, 3, 3, 2, 2, 1, 2, 2, 2, 2, 4,\n",
       "       1, 1, 2, 1, 3, 1, 0, 2, 3, 1, 2, 2, 3, 3, 4, 4, 2, 2, 3, 3, 4, 5,\n",
       "       1, 2, 2, 5, 2, 2, 2, 3, 2, 1, 1, 2, 2, 4, 4, 3, 3, 4, 2, 1, 2, 2,\n",
       "       3, 2, 2, 4, 2, 4, 1, 4, 1, 1, 3, 1, 2, 3, 0, 2, 3, 4, 3, 5, 1, 3,\n",
       "       3, 2, 1, 1, 3, 0, 2, 4, 2, 2, 0, 3, 2, 1, 1, 0, 3, 1, 3, 1, 1, 1,\n",
       "       2, 3, 5, 0, 2, 3, 2, 1, 3, 1, 1, 2, 1, 1, 1, 2, 1, 3, 2, 2, 2, 1,\n",
       "       4, 3, 3, 2, 1, 5, 1, 3, 2, 1, 3, 2, 1, 1, 1, 3, 2, 2, 3, 1, 1, 3,\n",
       "       4, 0, 2, 2, 3, 1, 3, 1, 3, 0])"
      ]
     },
     "execution_count": 87,
     "metadata": {},
     "output_type": "execute_result"
    }
   ],
   "source": [
    "food_truck_park.sum(axis=1)"
   ]
  },
  {
   "cell_type": "code",
   "execution_count": 88,
   "id": "bfa6e13a",
   "metadata": {},
   "outputs": [
    {
     "data": {
      "text/plain": [
       "0.632"
      ]
     },
     "execution_count": 88,
     "metadata": {},
     "output_type": "execute_result"
    }
   ],
   "source": [
    "(food_truck_park.sum(axis=1) < 3).mean()"
   ]
  },
  {
   "cell_type": "code",
   "execution_count": 89,
   "id": "3a5fd950",
   "metadata": {},
   "outputs": [
    {
     "data": {
      "text/plain": [
       "0.13"
      ]
     },
     "execution_count": 89,
     "metadata": {},
     "output_type": "execute_result"
    }
   ],
   "source": [
    "(food_truck_park.sum(axis=1) >= 4).mean()"
   ]
  },
  {
   "cell_type": "code",
   "execution_count": 195,
   "id": "e2333f71",
   "metadata": {},
   "outputs": [],
   "source": [
    "n_days = 3"
   ]
  },
  {
   "cell_type": "code",
   "execution_count": 199,
   "id": "d6d21744",
   "metadata": {},
   "outputs": [],
   "source": [
    "#0 = no trucks, 1 = truck show up\n",
    "trucks = np.random.choice(([0,1]), size = (100_000,n_days), p = [0.3, 0.7])"
   ]
  },
  {
   "cell_type": "code",
   "execution_count": 200,
   "id": "dd536d66",
   "metadata": {},
   "outputs": [
    {
     "data": {
      "text/plain": [
       "array([[0, 1, 1],\n",
       "       [0, 0, 1],\n",
       "       [1, 1, 1],\n",
       "       ...,\n",
       "       [0, 0, 1],\n",
       "       [0, 1, 1],\n",
       "       [1, 1, 1]])"
      ]
     },
     "execution_count": 200,
     "metadata": {},
     "output_type": "execute_result"
    }
   ],
   "source": [
    "trucks"
   ]
  },
  {
   "cell_type": "code",
   "execution_count": 201,
   "id": "895ad2b6",
   "metadata": {},
   "outputs": [
    {
     "data": {
      "text/plain": [
       "0.02681"
      ]
     },
     "execution_count": 201,
     "metadata": {},
     "output_type": "execute_result"
    }
   ],
   "source": [
    "(trucks.sum(axis=1) == 0).mean()"
   ]
  },
  {
   "cell_type": "code",
   "execution_count": 202,
   "id": "93afb19a",
   "metadata": {},
   "outputs": [
    {
     "data": {
      "text/plain": [
       "0.97319"
      ]
     },
     "execution_count": 202,
     "metadata": {},
     "output_type": "execute_result"
    }
   ],
   "source": [
    "(trucks.sum(axis=1) >= 1).mean()"
   ]
  },
  {
   "cell_type": "markdown",
   "id": "14d4faa9",
   "metadata": {},
   "source": [
    "8. If 23 people are in the same room, what are the odds that two of them share a birthday? What if it's 20 people? 40?"
   ]
  },
  {
   "cell_type": "code",
   "execution_count": 216,
   "id": "aa047fbc",
   "metadata": {},
   "outputs": [
    {
     "data": {
      "text/html": [
       "<div>\n",
       "<style scoped>\n",
       "    .dataframe tbody tr th:only-of-type {\n",
       "        vertical-align: middle;\n",
       "    }\n",
       "\n",
       "    .dataframe tbody tr th {\n",
       "        vertical-align: top;\n",
       "    }\n",
       "\n",
       "    .dataframe thead th {\n",
       "        text-align: right;\n",
       "    }\n",
       "</style>\n",
       "<table border=\"1\" class=\"dataframe\">\n",
       "  <thead>\n",
       "    <tr style=\"text-align: right;\">\n",
       "      <th></th>\n",
       "      <th>0</th>\n",
       "    </tr>\n",
       "  </thead>\n",
       "  <tbody>\n",
       "    <tr>\n",
       "      <th>0</th>\n",
       "      <td>354</td>\n",
       "    </tr>\n",
       "    <tr>\n",
       "      <th>1</th>\n",
       "      <td>245</td>\n",
       "    </tr>\n",
       "    <tr>\n",
       "      <th>2</th>\n",
       "      <td>256</td>\n",
       "    </tr>\n",
       "    <tr>\n",
       "      <th>3</th>\n",
       "      <td>204</td>\n",
       "    </tr>\n",
       "    <tr>\n",
       "      <th>4</th>\n",
       "      <td>33</td>\n",
       "    </tr>\n",
       "    <tr>\n",
       "      <th>...</th>\n",
       "      <td>...</td>\n",
       "    </tr>\n",
       "    <tr>\n",
       "      <th>22995</th>\n",
       "      <td>308</td>\n",
       "    </tr>\n",
       "    <tr>\n",
       "      <th>22996</th>\n",
       "      <td>249</td>\n",
       "    </tr>\n",
       "    <tr>\n",
       "      <th>22997</th>\n",
       "      <td>178</td>\n",
       "    </tr>\n",
       "    <tr>\n",
       "      <th>22998</th>\n",
       "      <td>16</td>\n",
       "    </tr>\n",
       "    <tr>\n",
       "      <th>22999</th>\n",
       "      <td>31</td>\n",
       "    </tr>\n",
       "  </tbody>\n",
       "</table>\n",
       "<p>23000 rows × 1 columns</p>\n",
       "</div>"
      ],
      "text/plain": [
       "         0\n",
       "0      354\n",
       "1      245\n",
       "2      256\n",
       "3      204\n",
       "4       33\n",
       "...    ...\n",
       "22995  308\n",
       "22996  249\n",
       "22997  178\n",
       "22998   16\n",
       "22999   31\n",
       "\n",
       "[23000 rows x 1 columns]"
      ]
     },
     "execution_count": 216,
     "metadata": {},
     "output_type": "execute_result"
    }
   ],
   "source": [
    "n_trials = nrows = 1000\n",
    "n_people = ncols = 23\n",
    "\n",
    "birthdays = pd.DataFrame(np.random.choice((range(1,366)), n_trials * n_people))\n",
    "birthdays"
   ]
  },
  {
   "cell_type": "code",
   "execution_count": 217,
   "id": "6b4bf3ee",
   "metadata": {},
   "outputs": [
    {
     "data": {
      "text/plain": [
       "0.9841304347826086"
      ]
     },
     "execution_count": 217,
     "metadata": {},
     "output_type": "execute_result"
    }
   ],
   "source": [
    "(birthdays.duplicated().mean())\n",
    "\n"
   ]
  },
  {
   "cell_type": "code",
   "execution_count": 218,
   "id": "58d20e4c",
   "metadata": {},
   "outputs": [
    {
     "data": {
      "text/plain": [
       "0.002"
      ]
     },
     "execution_count": 218,
     "metadata": {},
     "output_type": "execute_result"
    }
   ],
   "source": [
    "2/1000"
   ]
  },
  {
   "cell_type": "code",
   "execution_count": 219,
   "id": "48dfe01f",
   "metadata": {},
   "outputs": [
    {
     "data": {
      "text/plain": [
       "2"
      ]
     },
     "execution_count": 219,
     "metadata": {},
     "output_type": "execute_result"
    }
   ],
   "source": [
    "birthdays.duplicated().nunique()"
   ]
  },
  {
   "cell_type": "code",
   "execution_count": 230,
   "id": "67a4f812",
   "metadata": {},
   "outputs": [],
   "source": [
    "outcomes = range(1,366)\n",
    "n_students = 40"
   ]
  },
  {
   "cell_type": "code",
   "execution_count": 231,
   "id": "ea384aa8",
   "metadata": {},
   "outputs": [],
   "source": [
    "birthdays = pd.DataFrame(np.random.choice(outcomes, size = (100_000,n_students)))"
   ]
  },
  {
   "cell_type": "code",
   "execution_count": 232,
   "id": "d25666f3",
   "metadata": {},
   "outputs": [
    {
     "data": {
      "text/html": [
       "<div>\n",
       "<style scoped>\n",
       "    .dataframe tbody tr th:only-of-type {\n",
       "        vertical-align: middle;\n",
       "    }\n",
       "\n",
       "    .dataframe tbody tr th {\n",
       "        vertical-align: top;\n",
       "    }\n",
       "\n",
       "    .dataframe thead th {\n",
       "        text-align: right;\n",
       "    }\n",
       "</style>\n",
       "<table border=\"1\" class=\"dataframe\">\n",
       "  <thead>\n",
       "    <tr style=\"text-align: right;\">\n",
       "      <th></th>\n",
       "      <th>0</th>\n",
       "      <th>1</th>\n",
       "      <th>2</th>\n",
       "      <th>3</th>\n",
       "      <th>4</th>\n",
       "      <th>5</th>\n",
       "      <th>6</th>\n",
       "      <th>7</th>\n",
       "      <th>8</th>\n",
       "      <th>9</th>\n",
       "      <th>...</th>\n",
       "      <th>30</th>\n",
       "      <th>31</th>\n",
       "      <th>32</th>\n",
       "      <th>33</th>\n",
       "      <th>34</th>\n",
       "      <th>35</th>\n",
       "      <th>36</th>\n",
       "      <th>37</th>\n",
       "      <th>38</th>\n",
       "      <th>39</th>\n",
       "    </tr>\n",
       "  </thead>\n",
       "  <tbody>\n",
       "    <tr>\n",
       "      <th>0</th>\n",
       "      <td>250</td>\n",
       "      <td>50</td>\n",
       "      <td>279</td>\n",
       "      <td>26</td>\n",
       "      <td>31</td>\n",
       "      <td>350</td>\n",
       "      <td>86</td>\n",
       "      <td>339</td>\n",
       "      <td>330</td>\n",
       "      <td>241</td>\n",
       "      <td>...</td>\n",
       "      <td>38</td>\n",
       "      <td>274</td>\n",
       "      <td>86</td>\n",
       "      <td>20</td>\n",
       "      <td>81</td>\n",
       "      <td>255</td>\n",
       "      <td>222</td>\n",
       "      <td>136</td>\n",
       "      <td>65</td>\n",
       "      <td>239</td>\n",
       "    </tr>\n",
       "    <tr>\n",
       "      <th>1</th>\n",
       "      <td>10</td>\n",
       "      <td>294</td>\n",
       "      <td>114</td>\n",
       "      <td>111</td>\n",
       "      <td>70</td>\n",
       "      <td>356</td>\n",
       "      <td>45</td>\n",
       "      <td>35</td>\n",
       "      <td>281</td>\n",
       "      <td>231</td>\n",
       "      <td>...</td>\n",
       "      <td>364</td>\n",
       "      <td>350</td>\n",
       "      <td>113</td>\n",
       "      <td>58</td>\n",
       "      <td>151</td>\n",
       "      <td>194</td>\n",
       "      <td>261</td>\n",
       "      <td>218</td>\n",
       "      <td>349</td>\n",
       "      <td>189</td>\n",
       "    </tr>\n",
       "    <tr>\n",
       "      <th>2</th>\n",
       "      <td>26</td>\n",
       "      <td>183</td>\n",
       "      <td>215</td>\n",
       "      <td>58</td>\n",
       "      <td>347</td>\n",
       "      <td>245</td>\n",
       "      <td>103</td>\n",
       "      <td>276</td>\n",
       "      <td>43</td>\n",
       "      <td>32</td>\n",
       "      <td>...</td>\n",
       "      <td>297</td>\n",
       "      <td>197</td>\n",
       "      <td>332</td>\n",
       "      <td>289</td>\n",
       "      <td>14</td>\n",
       "      <td>202</td>\n",
       "      <td>116</td>\n",
       "      <td>365</td>\n",
       "      <td>60</td>\n",
       "      <td>361</td>\n",
       "    </tr>\n",
       "    <tr>\n",
       "      <th>3</th>\n",
       "      <td>281</td>\n",
       "      <td>209</td>\n",
       "      <td>185</td>\n",
       "      <td>335</td>\n",
       "      <td>65</td>\n",
       "      <td>297</td>\n",
       "      <td>320</td>\n",
       "      <td>236</td>\n",
       "      <td>306</td>\n",
       "      <td>239</td>\n",
       "      <td>...</td>\n",
       "      <td>72</td>\n",
       "      <td>295</td>\n",
       "      <td>205</td>\n",
       "      <td>140</td>\n",
       "      <td>131</td>\n",
       "      <td>338</td>\n",
       "      <td>24</td>\n",
       "      <td>338</td>\n",
       "      <td>320</td>\n",
       "      <td>283</td>\n",
       "    </tr>\n",
       "    <tr>\n",
       "      <th>4</th>\n",
       "      <td>81</td>\n",
       "      <td>23</td>\n",
       "      <td>66</td>\n",
       "      <td>235</td>\n",
       "      <td>6</td>\n",
       "      <td>191</td>\n",
       "      <td>190</td>\n",
       "      <td>189</td>\n",
       "      <td>265</td>\n",
       "      <td>117</td>\n",
       "      <td>...</td>\n",
       "      <td>265</td>\n",
       "      <td>108</td>\n",
       "      <td>317</td>\n",
       "      <td>85</td>\n",
       "      <td>45</td>\n",
       "      <td>362</td>\n",
       "      <td>311</td>\n",
       "      <td>21</td>\n",
       "      <td>287</td>\n",
       "      <td>248</td>\n",
       "    </tr>\n",
       "    <tr>\n",
       "      <th>...</th>\n",
       "      <td>...</td>\n",
       "      <td>...</td>\n",
       "      <td>...</td>\n",
       "      <td>...</td>\n",
       "      <td>...</td>\n",
       "      <td>...</td>\n",
       "      <td>...</td>\n",
       "      <td>...</td>\n",
       "      <td>...</td>\n",
       "      <td>...</td>\n",
       "      <td>...</td>\n",
       "      <td>...</td>\n",
       "      <td>...</td>\n",
       "      <td>...</td>\n",
       "      <td>...</td>\n",
       "      <td>...</td>\n",
       "      <td>...</td>\n",
       "      <td>...</td>\n",
       "      <td>...</td>\n",
       "      <td>...</td>\n",
       "      <td>...</td>\n",
       "    </tr>\n",
       "    <tr>\n",
       "      <th>99995</th>\n",
       "      <td>180</td>\n",
       "      <td>57</td>\n",
       "      <td>138</td>\n",
       "      <td>116</td>\n",
       "      <td>86</td>\n",
       "      <td>191</td>\n",
       "      <td>276</td>\n",
       "      <td>258</td>\n",
       "      <td>249</td>\n",
       "      <td>94</td>\n",
       "      <td>...</td>\n",
       "      <td>270</td>\n",
       "      <td>166</td>\n",
       "      <td>260</td>\n",
       "      <td>234</td>\n",
       "      <td>75</td>\n",
       "      <td>354</td>\n",
       "      <td>166</td>\n",
       "      <td>60</td>\n",
       "      <td>158</td>\n",
       "      <td>23</td>\n",
       "    </tr>\n",
       "    <tr>\n",
       "      <th>99996</th>\n",
       "      <td>282</td>\n",
       "      <td>85</td>\n",
       "      <td>111</td>\n",
       "      <td>256</td>\n",
       "      <td>294</td>\n",
       "      <td>198</td>\n",
       "      <td>217</td>\n",
       "      <td>167</td>\n",
       "      <td>189</td>\n",
       "      <td>53</td>\n",
       "      <td>...</td>\n",
       "      <td>209</td>\n",
       "      <td>39</td>\n",
       "      <td>223</td>\n",
       "      <td>111</td>\n",
       "      <td>212</td>\n",
       "      <td>346</td>\n",
       "      <td>306</td>\n",
       "      <td>207</td>\n",
       "      <td>216</td>\n",
       "      <td>91</td>\n",
       "    </tr>\n",
       "    <tr>\n",
       "      <th>99997</th>\n",
       "      <td>75</td>\n",
       "      <td>145</td>\n",
       "      <td>215</td>\n",
       "      <td>161</td>\n",
       "      <td>238</td>\n",
       "      <td>233</td>\n",
       "      <td>248</td>\n",
       "      <td>246</td>\n",
       "      <td>79</td>\n",
       "      <td>280</td>\n",
       "      <td>...</td>\n",
       "      <td>23</td>\n",
       "      <td>171</td>\n",
       "      <td>291</td>\n",
       "      <td>309</td>\n",
       "      <td>273</td>\n",
       "      <td>122</td>\n",
       "      <td>355</td>\n",
       "      <td>80</td>\n",
       "      <td>90</td>\n",
       "      <td>209</td>\n",
       "    </tr>\n",
       "    <tr>\n",
       "      <th>99998</th>\n",
       "      <td>332</td>\n",
       "      <td>294</td>\n",
       "      <td>239</td>\n",
       "      <td>151</td>\n",
       "      <td>279</td>\n",
       "      <td>62</td>\n",
       "      <td>47</td>\n",
       "      <td>66</td>\n",
       "      <td>193</td>\n",
       "      <td>83</td>\n",
       "      <td>...</td>\n",
       "      <td>154</td>\n",
       "      <td>54</td>\n",
       "      <td>128</td>\n",
       "      <td>184</td>\n",
       "      <td>7</td>\n",
       "      <td>130</td>\n",
       "      <td>304</td>\n",
       "      <td>66</td>\n",
       "      <td>75</td>\n",
       "      <td>37</td>\n",
       "    </tr>\n",
       "    <tr>\n",
       "      <th>99999</th>\n",
       "      <td>350</td>\n",
       "      <td>249</td>\n",
       "      <td>22</td>\n",
       "      <td>228</td>\n",
       "      <td>44</td>\n",
       "      <td>98</td>\n",
       "      <td>27</td>\n",
       "      <td>124</td>\n",
       "      <td>110</td>\n",
       "      <td>357</td>\n",
       "      <td>...</td>\n",
       "      <td>182</td>\n",
       "      <td>210</td>\n",
       "      <td>260</td>\n",
       "      <td>266</td>\n",
       "      <td>332</td>\n",
       "      <td>31</td>\n",
       "      <td>265</td>\n",
       "      <td>11</td>\n",
       "      <td>328</td>\n",
       "      <td>171</td>\n",
       "    </tr>\n",
       "  </tbody>\n",
       "</table>\n",
       "<p>100000 rows × 40 columns</p>\n",
       "</div>"
      ],
      "text/plain": [
       "        0    1    2    3    4    5    6    7    8    9   ...   30   31   32  \\\n",
       "0      250   50  279   26   31  350   86  339  330  241  ...   38  274   86   \n",
       "1       10  294  114  111   70  356   45   35  281  231  ...  364  350  113   \n",
       "2       26  183  215   58  347  245  103  276   43   32  ...  297  197  332   \n",
       "3      281  209  185  335   65  297  320  236  306  239  ...   72  295  205   \n",
       "4       81   23   66  235    6  191  190  189  265  117  ...  265  108  317   \n",
       "...    ...  ...  ...  ...  ...  ...  ...  ...  ...  ...  ...  ...  ...  ...   \n",
       "99995  180   57  138  116   86  191  276  258  249   94  ...  270  166  260   \n",
       "99996  282   85  111  256  294  198  217  167  189   53  ...  209   39  223   \n",
       "99997   75  145  215  161  238  233  248  246   79  280  ...   23  171  291   \n",
       "99998  332  294  239  151  279   62   47   66  193   83  ...  154   54  128   \n",
       "99999  350  249   22  228   44   98   27  124  110  357  ...  182  210  260   \n",
       "\n",
       "        33   34   35   36   37   38   39  \n",
       "0       20   81  255  222  136   65  239  \n",
       "1       58  151  194  261  218  349  189  \n",
       "2      289   14  202  116  365   60  361  \n",
       "3      140  131  338   24  338  320  283  \n",
       "4       85   45  362  311   21  287  248  \n",
       "...    ...  ...  ...  ...  ...  ...  ...  \n",
       "99995  234   75  354  166   60  158   23  \n",
       "99996  111  212  346  306  207  216   91  \n",
       "99997  309  273  122  355   80   90  209  \n",
       "99998  184    7  130  304   66   75   37  \n",
       "99999  266  332   31  265   11  328  171  \n",
       "\n",
       "[100000 rows x 40 columns]"
      ]
     },
     "execution_count": 232,
     "metadata": {},
     "output_type": "execute_result"
    }
   ],
   "source": [
    "birthdays"
   ]
  },
  {
   "cell_type": "code",
   "execution_count": 223,
   "id": "6df8d71d",
   "metadata": {},
   "outputs": [
    {
     "data": {
      "text/plain": [
       "0.50325"
      ]
     },
     "execution_count": 223,
     "metadata": {},
     "output_type": "execute_result"
    }
   ],
   "source": [
    "(birthdays.nunique(axis = 1) < 23).mean()"
   ]
  },
  {
   "cell_type": "code",
   "execution_count": 229,
   "id": "b3ad7492",
   "metadata": {},
   "outputs": [
    {
     "data": {
      "text/plain": [
       "0.41017"
      ]
     },
     "execution_count": 229,
     "metadata": {},
     "output_type": "execute_result"
    }
   ],
   "source": [
    "(birthdays.nunique(axis = 1) < 20).mean()"
   ]
  },
  {
   "cell_type": "code",
   "execution_count": 233,
   "id": "c3b379d3",
   "metadata": {},
   "outputs": [
    {
     "data": {
      "text/plain": [
       "0.89261"
      ]
     },
     "execution_count": 233,
     "metadata": {},
     "output_type": "execute_result"
    }
   ],
   "source": [
    "(birthdays.nunique(axis = 1) < 40).mean()"
   ]
  }
 ],
 "metadata": {
  "kernelspec": {
   "display_name": "Python 3 (ipykernel)",
   "language": "python",
   "name": "python3"
  },
  "language_info": {
   "codemirror_mode": {
    "name": "ipython",
    "version": 3
   },
   "file_extension": ".py",
   "mimetype": "text/x-python",
   "name": "python",
   "nbconvert_exporter": "python",
   "pygments_lexer": "ipython3",
   "version": "3.9.13"
  }
 },
 "nbformat": 4,
 "nbformat_minor": 5
}
